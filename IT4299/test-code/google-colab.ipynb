{
  "nbformat": 4,
  "nbformat_minor": 0,
  "metadata": {
    "kernelspec": {
      "display_name": "Python 3",
      "language": "python",
      "name": "python3"
    },
    "language_info": {
      "codemirror_mode": {
        "name": "ipython",
        "version": 3
      },
      "file_extension": ".py",
      "mimetype": "text/x-python",
      "name": "python",
      "nbconvert_exporter": "python",
      "pygments_lexer": "ipython3",
      "version": "3.8.5"
    },
    "metadata": {
      "interpreter": {
        "hash": "ac59ebe37160ed0dfa835113d9b8498d9f09ceb179beaac4002f036b9467c963"
      }
    },
    "colab": {
      "provenance": []
    }
  },
  "cells": [
    {
      "cell_type": "code",
      "metadata": {
        "id": "5Dzl0g97g6D1",
        "colab": {
          "base_uri": "https://localhost:8080/"
        },
        "outputId": "d520fa95-4a13-4fce-b35f-beaae395b23a"
      },
      "source": [
        "pip install pandas-ta"
      ],
      "execution_count": null,
      "outputs": [
        {
          "output_type": "stream",
          "name": "stdout",
          "text": [
            "Looking in indexes: https://pypi.org/simple, https://us-python.pkg.dev/colab-wheels/public/simple/\n",
            "Requirement already satisfied: pandas-ta in /usr/local/lib/python3.7/dist-packages (0.3.14b0)\n",
            "Requirement already satisfied: pandas in /usr/local/lib/python3.7/dist-packages (from pandas-ta) (1.3.5)\n",
            "Requirement already satisfied: python-dateutil>=2.7.3 in /usr/local/lib/python3.7/dist-packages (from pandas->pandas-ta) (2.8.2)\n",
            "Requirement already satisfied: pytz>=2017.3 in /usr/local/lib/python3.7/dist-packages (from pandas->pandas-ta) (2022.2.1)\n",
            "Requirement already satisfied: numpy>=1.17.3 in /usr/local/lib/python3.7/dist-packages (from pandas->pandas-ta) (1.21.6)\n",
            "Requirement already satisfied: six>=1.5 in /usr/local/lib/python3.7/dist-packages (from python-dateutil>=2.7.3->pandas->pandas-ta) (1.15.0)\n"
          ]
        }
      ]
    },
    {
      "cell_type": "code",
      "source": [
        "pip install tweepy"
      ],
      "metadata": {
        "colab": {
          "base_uri": "https://localhost:8080/"
        },
        "id": "cyy6-TZhD_rw",
        "outputId": "52fdd9b0-d460-4409-8b6a-1f9797d6b306"
      },
      "execution_count": null,
      "outputs": [
        {
          "output_type": "stream",
          "name": "stdout",
          "text": [
            "Looking in indexes: https://pypi.org/simple, https://us-python.pkg.dev/colab-wheels/public/simple/\n",
            "Requirement already satisfied: tweepy in /usr/local/lib/python3.7/dist-packages (3.10.0)\n",
            "Requirement already satisfied: six>=1.10.0 in /usr/local/lib/python3.7/dist-packages (from tweepy) (1.15.0)\n",
            "Requirement already satisfied: requests-oauthlib>=0.7.0 in /usr/local/lib/python3.7/dist-packages (from tweepy) (1.3.1)\n",
            "Requirement already satisfied: requests[socks]>=2.11.1 in /usr/local/lib/python3.7/dist-packages (from tweepy) (2.23.0)\n",
            "Requirement already satisfied: oauthlib>=3.0.0 in /usr/local/lib/python3.7/dist-packages (from requests-oauthlib>=0.7.0->tweepy) (3.2.0)\n",
            "Requirement already satisfied: urllib3!=1.25.0,!=1.25.1,<1.26,>=1.21.1 in /usr/local/lib/python3.7/dist-packages (from requests[socks]>=2.11.1->tweepy) (1.24.3)\n",
            "Requirement already satisfied: idna<3,>=2.5 in /usr/local/lib/python3.7/dist-packages (from requests[socks]>=2.11.1->tweepy) (2.10)\n",
            "Requirement already satisfied: certifi>=2017.4.17 in /usr/local/lib/python3.7/dist-packages (from requests[socks]>=2.11.1->tweepy) (2022.6.15)\n",
            "Requirement already satisfied: chardet<4,>=3.0.2 in /usr/local/lib/python3.7/dist-packages (from requests[socks]>=2.11.1->tweepy) (3.0.4)\n",
            "Requirement already satisfied: PySocks!=1.5.7,>=1.5.6 in /usr/local/lib/python3.7/dist-packages (from requests[socks]>=2.11.1->tweepy) (1.7.1)\n"
          ]
        }
      ]
    },
    {
      "cell_type": "code",
      "source": [
        "pip install yfinance --upgrade --no-cache-dir"
      ],
      "metadata": {
        "colab": {
          "base_uri": "https://localhost:8080/",
          "height": 503
        },
        "id": "Q4PyMsBJEIKT",
        "outputId": "ecff177e-98b3-4dea-bcb2-a0f965647a27"
      },
      "execution_count": null,
      "outputs": [
        {
          "output_type": "stream",
          "name": "stdout",
          "text": [
            "Looking in indexes: https://pypi.org/simple, https://us-python.pkg.dev/colab-wheels/public/simple/\n",
            "Collecting yfinance\n",
            "  Downloading yfinance-0.1.74-py2.py3-none-any.whl (27 kB)\n",
            "Requirement already satisfied: pandas>=0.24.0 in /usr/local/lib/python3.7/dist-packages (from yfinance) (1.3.5)\n",
            "Requirement already satisfied: numpy>=1.15 in /usr/local/lib/python3.7/dist-packages (from yfinance) (1.21.6)\n",
            "Requirement already satisfied: lxml>=4.5.1 in /usr/local/lib/python3.7/dist-packages (from yfinance) (4.9.1)\n",
            "Collecting requests>=2.26\n",
            "  Downloading requests-2.28.1-py3-none-any.whl (62 kB)\n",
            "\u001b[K     |████████████████████████████████| 62 kB 7.0 MB/s \n",
            "\u001b[?25hRequirement already satisfied: multitasking>=0.0.7 in /usr/local/lib/python3.7/dist-packages (from yfinance) (0.0.11)\n",
            "Requirement already satisfied: python-dateutil>=2.7.3 in /usr/local/lib/python3.7/dist-packages (from pandas>=0.24.0->yfinance) (2.8.2)\n",
            "Requirement already satisfied: pytz>=2017.3 in /usr/local/lib/python3.7/dist-packages (from pandas>=0.24.0->yfinance) (2022.2.1)\n",
            "Requirement already satisfied: six>=1.5 in /usr/local/lib/python3.7/dist-packages (from python-dateutil>=2.7.3->pandas>=0.24.0->yfinance) (1.15.0)\n",
            "Requirement already satisfied: certifi>=2017.4.17 in /usr/local/lib/python3.7/dist-packages (from requests>=2.26->yfinance) (2022.6.15)\n",
            "Requirement already satisfied: charset-normalizer<3,>=2 in /usr/local/lib/python3.7/dist-packages (from requests>=2.26->yfinance) (2.1.1)\n",
            "Requirement already satisfied: urllib3<1.27,>=1.21.1 in /usr/local/lib/python3.7/dist-packages (from requests>=2.26->yfinance) (1.24.3)\n",
            "Requirement already satisfied: idna<4,>=2.5 in /usr/local/lib/python3.7/dist-packages (from requests>=2.26->yfinance) (2.10)\n",
            "Installing collected packages: requests, yfinance\n",
            "  Attempting uninstall: requests\n",
            "    Found existing installation: requests 2.23.0\n",
            "    Uninstalling requests-2.23.0:\n",
            "      Successfully uninstalled requests-2.23.0\n",
            "Successfully installed requests-2.28.1 yfinance-0.1.74\n"
          ]
        },
        {
          "output_type": "display_data",
          "data": {
            "application/vnd.colab-display-data+json": {
              "pip_warning": {
                "packages": [
                  "requests"
                ]
              }
            }
          },
          "metadata": {}
        }
      ]
    },
    {
      "cell_type": "code",
      "source": [
        "from google.colab import drive\n",
        "drive.mount('/content/drive')"
      ],
      "metadata": {
        "colab": {
          "base_uri": "https://localhost:8080/"
        },
        "id": "6wMbmJmiETaw",
        "outputId": "a4c99898-377f-44a6-97a5-882b694f7b89"
      },
      "execution_count": null,
      "outputs": [
        {
          "output_type": "stream",
          "name": "stdout",
          "text": [
            "Mounted at /content/drive\n"
          ]
        }
      ]
    },
    {
      "cell_type": "code",
      "source": [
        "import time\n",
        "import json\n",
        "import tweepy\n",
        "import pandas\n",
        "import pandas_ta\n",
        "import yfinance as yf\n",
        "import datetime as dt\n",
        "import matplotlib.pyplot as plt\n",
        "from sklearn.linear_model import LinearRegression\n",
        "from sklearn.model_selection import train_test_split\n",
        "from sklearn.metrics import mean_squared_error, r2_score, mean_absolute_error\n"
      ],
      "metadata": {
        "id": "-JacS2zbDzXb"
      },
      "execution_count": null,
      "outputs": []
    },
    {
      "cell_type": "code",
      "metadata": {
        "colab": {
          "base_uri": "https://localhost:8080/",
          "height": 474
        },
        "id": "9RF1ME2bg6D6",
        "outputId": "158303fa-9492-479d-dd68-4ab3f4553419"
      },
      "source": [
        "#three_years_before = dt.date.today() - dt.timedelta(days=365 * 3)\n",
        "djia_file = yf.download('bp', start='2019-01-01',end=dt.date.today())\n",
        "# djia_file.to_csv(\"/content/drive/MyDrive/Colab Notebooks/paper/djia.csv\")\n",
        "djia_file=djia_file[['Adj Close']]\n",
        "djia_file\n",
        "\n",
        "\n",
        "# import datetime\n",
        "# def djia_collect(y,m,d,market):\n",
        "#     start = int(time.mktime(datetime.datetime(y,m,d,0,1).timetuple()))\n",
        "#     end = int(time.mktime(datetime.datetime.now().timetuple()))\n",
        "#     download = f\"https://query1.finance.yahoo.com/v7/finance/download/{market}?period1={start}&period2={end}&interval=1d&events=history&includeAdjustedClose=true\"\n",
        "#     djia_file = pandas.read_csv(download)\n",
        "#     djia_file.to_csv(\"/content/drive/MyDrive/Colab Notebooks/paper/djia.csv\")\n",
        "#     return djia_file\n",
        "\n",
        "# djia_collect(2019,1,1,\"bp\")"
      ],
      "execution_count": null,
      "outputs": [
        {
          "output_type": "stream",
          "name": "stdout",
          "text": [
            "\r[*********************100%***********************]  1 of 1 completed\n"
          ]
        },
        {
          "output_type": "execute_result",
          "data": {
            "text/html": [
              "<div>\n",
              "<style scoped>\n",
              "    .dataframe tbody tr th:only-of-type {\n",
              "        vertical-align: middle;\n",
              "    }\n",
              "\n",
              "    .dataframe tbody tr th {\n",
              "        vertical-align: top;\n",
              "    }\n",
              "\n",
              "    .dataframe thead th {\n",
              "        text-align: right;\n",
              "    }\n",
              "</style>\n",
              "<table border=\"1\" class=\"dataframe\">\n",
              "  <thead>\n",
              "    <tr style=\"text-align: right;\">\n",
              "      <th></th>\n",
              "      <th>Adj Close</th>\n",
              "    </tr>\n",
              "    <tr>\n",
              "      <th>Date</th>\n",
              "      <th></th>\n",
              "    </tr>\n",
              "  </thead>\n",
              "  <tbody>\n",
              "    <tr>\n",
              "      <th>2019-01-02</th>\n",
              "      <td>32.369118</td>\n",
              "    </tr>\n",
              "    <tr>\n",
              "      <th>2019-01-03</th>\n",
              "      <td>32.553650</td>\n",
              "    </tr>\n",
              "    <tr>\n",
              "      <th>2019-01-04</th>\n",
              "      <td>33.576977</td>\n",
              "    </tr>\n",
              "    <tr>\n",
              "      <th>2019-01-07</th>\n",
              "      <td>33.686024</td>\n",
              "    </tr>\n",
              "    <tr>\n",
              "      <th>2019-01-08</th>\n",
              "      <td>33.576977</td>\n",
              "    </tr>\n",
              "    <tr>\n",
              "      <th>...</th>\n",
              "      <td>...</td>\n",
              "    </tr>\n",
              "    <tr>\n",
              "      <th>2021-09-22</th>\n",
              "      <td>25.650000</td>\n",
              "    </tr>\n",
              "    <tr>\n",
              "      <th>2021-09-23</th>\n",
              "      <td>26.160000</td>\n",
              "    </tr>\n",
              "    <tr>\n",
              "      <th>2021-09-24</th>\n",
              "      <td>26.240000</td>\n",
              "    </tr>\n",
              "    <tr>\n",
              "      <th>2021-09-27</th>\n",
              "      <td>27.080000</td>\n",
              "    </tr>\n",
              "    <tr>\n",
              "      <th>2021-09-28</th>\n",
              "      <td>27.240000</td>\n",
              "    </tr>\n",
              "  </tbody>\n",
              "</table>\n",
              "<p>691 rows × 1 columns</p>\n",
              "</div>"
            ],
            "text/plain": [
              "            Adj Close\n",
              "Date                 \n",
              "2019-01-02  32.369118\n",
              "2019-01-03  32.553650\n",
              "2019-01-04  33.576977\n",
              "2019-01-07  33.686024\n",
              "2019-01-08  33.576977\n",
              "...               ...\n",
              "2021-09-22  25.650000\n",
              "2021-09-23  26.160000\n",
              "2021-09-24  26.240000\n",
              "2021-09-27  27.080000\n",
              "2021-09-28  27.240000\n",
              "\n",
              "[691 rows x 1 columns]"
            ]
          },
          "metadata": {},
          "execution_count": 16
        }
      ]
    },
    {
      "cell_type": "code",
      "metadata": {
        "colab": {
          "base_uri": "https://localhost:8080/",
          "height": 368
        },
        "id": "VQE-YB42GzOD",
        "outputId": "5248bd83-4831-4252-b9c5-85e4e16eb282"
      },
      "source": [
        "dataset = yf.download('bp', start='2019-01-01',end=dt.date.today())\n",
        "dataset2 = dataset\n",
        "dataset = dataset[['Adj Close']]\n",
        "dataset.ta.ema(close='Adj Close', length=10, append=True)\n",
        "dataset = dataset.iloc[10:]\n",
        "dataset.head()"
      ],
      "execution_count": null,
      "outputs": [
        {
          "output_type": "stream",
          "name": "stdout",
          "text": [
            "\r[*********************100%***********************]  1 of 1 completed\n"
          ]
        },
        {
          "output_type": "stream",
          "name": "stderr",
          "text": [
            "/usr/local/lib/python3.7/dist-packages/pandas_ta/core.py:426: SettingWithCopyWarning: \n",
            "A value is trying to be set on a copy of a slice from a DataFrame.\n",
            "Try using .loc[row_indexer,col_indexer] = value instead\n",
            "\n",
            "See the caveats in the documentation: https://pandas.pydata.org/pandas-docs/stable/user_guide/indexing.html#returning-a-view-versus-a-copy\n",
            "  df[ind_name] = result\n"
          ]
        },
        {
          "output_type": "execute_result",
          "data": {
            "text/html": [
              "<div>\n",
              "<style scoped>\n",
              "    .dataframe tbody tr th:only-of-type {\n",
              "        vertical-align: middle;\n",
              "    }\n",
              "\n",
              "    .dataframe tbody tr th {\n",
              "        vertical-align: top;\n",
              "    }\n",
              "\n",
              "    .dataframe thead th {\n",
              "        text-align: right;\n",
              "    }\n",
              "</style>\n",
              "<table border=\"1\" class=\"dataframe\">\n",
              "  <thead>\n",
              "    <tr style=\"text-align: right;\">\n",
              "      <th></th>\n",
              "      <th>Adj Close</th>\n",
              "      <th>EMA_10</th>\n",
              "    </tr>\n",
              "    <tr>\n",
              "      <th>Date</th>\n",
              "      <th></th>\n",
              "      <th></th>\n",
              "    </tr>\n",
              "  </thead>\n",
              "  <tbody>\n",
              "    <tr>\n",
              "      <th>2019-01-16</th>\n",
              "      <td>33.652466</td>\n",
              "      <td>33.541290</td>\n",
              "    </tr>\n",
              "    <tr>\n",
              "      <th>2019-01-17</th>\n",
              "      <td>33.660858</td>\n",
              "      <td>33.563030</td>\n",
              "    </tr>\n",
              "    <tr>\n",
              "      <th>2019-01-18</th>\n",
              "      <td>34.189293</td>\n",
              "      <td>33.676896</td>\n",
              "    </tr>\n",
              "    <tr>\n",
              "      <th>2019-01-22</th>\n",
              "      <td>33.618923</td>\n",
              "      <td>33.666355</td>\n",
              "    </tr>\n",
              "    <tr>\n",
              "      <th>2019-01-23</th>\n",
              "      <td>33.652466</td>\n",
              "      <td>33.663830</td>\n",
              "    </tr>\n",
              "  </tbody>\n",
              "</table>\n",
              "</div>"
            ],
            "text/plain": [
              "            Adj Close     EMA_10\n",
              "Date                            \n",
              "2019-01-16  33.652466  33.541290\n",
              "2019-01-17  33.660858  33.563030\n",
              "2019-01-18  34.189293  33.676896\n",
              "2019-01-22  33.618923  33.666355\n",
              "2019-01-23  33.652466  33.663830"
            ]
          },
          "metadata": {},
          "execution_count": 61
        }
      ]
    },
    {
      "cell_type": "code",
      "metadata": {
        "colab": {
          "base_uri": "https://localhost:8080/"
        },
        "id": "vNq8GXTTJ8Nw",
        "outputId": "9aa11a19-8536-4b01-d4b5-d42beb2be35d"
      },
      "source": [
        "X_train, X_test, y_train, y_test = train_test_split(dataset[['Adj Close']], dataset[['EMA_10']], test_size=.2)\n",
        "model = LinearRegression()\n",
        "model.fit(X_train, y_train)\n",
        "y_pred = model.predict(X_test)\n",
        "print(\"Model Coefficients:\", model.coef_)\n",
        "print(\"Mean Absolute Error:\", mean_absolute_error(y_test, y_pred))\n",
        "print(\"Coefficient of Determination:\", r2_score(y_test, y_pred))"
      ],
      "execution_count": null,
      "outputs": [
        {
          "output_type": "stream",
          "name": "stdout",
          "text": [
            "Model Coefficients: [[0.98202663]]\n",
            "Mean Absolute Error: 0.5940028343574464\n",
            "Coefficient of Determination: 0.9818334581160549\n"
          ]
        }
      ]
    },
    {
      "cell_type": "code",
      "metadata": {
        "id": "2xnpiLtzg6D8",
        "colab": {
          "base_uri": "https://localhost:8080/",
          "height": 320
        },
        "outputId": "b22b6876-ee56-4533-a172-5944ec14761a"
      },
      "source": [
        "djia_csv = pandas.read_csv(r\"/content/drive/MyDrive/Colab Notebooks/paper/djia.csv\")\n",
        "avg=(djia_csv[\"High\"]+djia_csv[\"Low\"])/2\n",
        "\n",
        "plt.figure(figsize=(10,5))\n",
        "plt.plot(djia_csv[\"Adj Close\"])\n",
        "plt.plot(avg)\n",
        "plt.show()"
      ],
      "execution_count": null,
      "outputs": [
        {
          "output_type": "display_data",
          "data": {
            "image/png": "[encoded data removed]",
            "text/plain": [
              "<Figure size 720x360 with 1 Axes>"
            ]
          },
          "metadata": {
            "needs_background": "light"
          }
        }
      ]
    },
    {
      "cell_type": "code",
      "metadata": {
        "id": "RmWIAbmqg6D-",
        "colab": {
          "base_uri": "https://localhost:8080/",
          "height": 206
        },
        "outputId": "f447a6b9-fd8b-4d08-d8d3-6b2b5f6e7493"
      },
      "source": [
        "dji_dict = {\"Date\":djia_csv[\"Date\"],\"Djia\": avg}\n",
        "dji_pd = pandas.DataFrame(dji_dict)\n",
        "dji_pd.head()\n",
        "# dji_pd.to_csv(\"/content/drive/MyDrive/Colab Notebooks/paper/avgdji.csv\")\n",
        "# avg_dji = pandas.read_csv(r\"/content/drive/MyDrive/Colab Notebooks/paper/avgdji.csv\")\n",
        "# pandas.DataFrame(avg_dji).head()"
      ],
      "execution_count": null,
      "outputs": [
        {
          "output_type": "execute_result",
          "data": {
            "text/html": [
              "<div>\n",
              "<style scoped>\n",
              "    .dataframe tbody tr th:only-of-type {\n",
              "        vertical-align: middle;\n",
              "    }\n",
              "\n",
              "    .dataframe tbody tr th {\n",
              "        vertical-align: top;\n",
              "    }\n",
              "\n",
              "    .dataframe thead th {\n",
              "        text-align: right;\n",
              "    }\n",
              "</style>\n",
              "<table border=\"1\" class=\"dataframe\">\n",
              "  <thead>\n",
              "    <tr style=\"text-align: right;\">\n",
              "      <th></th>\n",
              "      <th>Date</th>\n",
              "      <th>Djia</th>\n",
              "    </tr>\n",
              "  </thead>\n",
              "  <tbody>\n",
              "    <tr>\n",
              "      <th>0</th>\n",
              "      <td>2019-01-02</td>\n",
              "      <td>38.075001</td>\n",
              "    </tr>\n",
              "    <tr>\n",
              "      <th>1</th>\n",
              "      <td>2019-01-03</td>\n",
              "      <td>38.770000</td>\n",
              "    </tr>\n",
              "    <tr>\n",
              "      <th>2</th>\n",
              "      <td>2019-01-04</td>\n",
              "      <td>39.750000</td>\n",
              "    </tr>\n",
              "    <tr>\n",
              "      <th>3</th>\n",
              "      <td>2019-01-07</td>\n",
              "      <td>39.945002</td>\n",
              "    </tr>\n",
              "    <tr>\n",
              "      <th>4</th>\n",
              "      <td>2019-01-08</td>\n",
              "      <td>40.045000</td>\n",
              "    </tr>\n",
              "  </tbody>\n",
              "</table>\n",
              "</div>"
            ],
            "text/plain": [
              "         Date       Djia\n",
              "0  2019-01-02  38.075001\n",
              "1  2019-01-03  38.770000\n",
              "2  2019-01-04  39.750000\n",
              "3  2019-01-07  39.945002\n",
              "4  2019-01-08  40.045000"
            ]
          },
          "metadata": {},
          "execution_count": 62
        }
      ]
    },
    {
      "cell_type": "code",
      "metadata": {
        "id": "Xm4j510Wg6D_",
        "colab": {
          "base_uri": "https://localhost:8080/"
        },
        "outputId": "4c057bc5-6d37-494a-d4f3-5f694c765157"
      },
      "source": [
        "try:\n",
        "    with open(\"/content/drive/MyDrive/Colab Notebooks/paper/api.txt\") as api_file:\n",
        "    key, key_secret, token, token_secret = api_file.read().split('\\n')\n",
        "    auth = tweepy.OAuthHandler(key,key_secret)\n",
        "    auth.set_access_token(token,token_secret)\n",
        "    api = tweepy.API(auth,wait_on_rate_limit=True)\n",
        "    if(api.trends_available()): print(\"Successfully Authorized.\")\n",
        "except:\n",
        "    print(\"Check keys and internet!\")\n",
        "\n",
        "#api.rate_limit_status()"
      ],
      "execution_count": null,
      "outputs": [
        {
          "output_type": "stream",
          "name": "stdout",
          "text": [
            "Successfully Authorized.\n"
          ]
        }
      ]
    },
    {
      "cell_type": "code",
      "metadata": {
        "id": "7ncOrkgdg6EA",
        "colab": {
          "base_uri": "https://localhost:8080/"
        },
        "outputId": "0844e73e-1936-44f8-a034-04f1841c4b39"
      },
      "source": [
        "trends = api.trends_place(id = 1, exclude = \"hashtags\")\n",
        "htag=[]    # id= 1 (WOEID of GLOBAL)\n",
        "for value in trends:\n",
        "#     print(value)\n",
        "    for trend in value['trends']:\n",
        "        htag.append(trend['name'])\n",
        "print(htag)"
      ],
      "execution_count": null,
      "outputs": [
        {
          "output_type": "stream",
          "name": "stdout",
          "text": [
            "['Norris', 'Hamilton', 'Verstappen', 'ŹOOĻ', 'Chan', 'KIM SEUNGMIN', 'Checo', 'Bottas', 'McLaren', 'WE LOVE YOU LISA', 'Sainz', 'Alonso', 'ハミルトン', 'TRIGGER', 'Chris Martin', 'フェルスタッペン', 'Raul Jimenez', 'Mert Hakan', 'Wahlzettel', 'Valencia', 'レミフラ', 'Pıt Pıt Şeker', 'Berisha', '第2クール', 'レジェンズ', 'Alaphilippe', 'Stimmzettel', 'Prince1000万', 'ロッキー', 'Ferrari', 'Ricciardo', 'CHARYBDIS CONCEPT MOODBOARD', '花巻すみれ', 'レーティング', 'Red Bull', '夢の通り道', 'ナナライ', '포타 연성 문장']\n"
          ]
        }
      ]
    },
    {
      "cell_type": "code",
      "metadata": {
        "id": "HUiKh5O3g6EB",
        "colab": {
          "base_uri": "https://localhost:8080/"
        },
        "outputId": "a2cafb97-8a01-4273-b1fa-c6a0e80aaa44"
      },
      "source": [
        "rw_tweet = tweepy.Cursor(api.search, q=htag[1], lang=\"en\", result_type='popular', since=\"2019-01-01\").items(50)\n",
        "\n",
        "tw_date,tweet,tw_like=[],[],[]\n",
        "\n",
        "for x in rw_tweet:\n",
        "    tw_date.append(x.created_at.strftime('%m/%d/%Y'))\n",
        "    tw_like.append(x.favorite_count)\n",
        "    tweet.append(x.text)\n",
        "print(tw_like)"
      ],
      "execution_count": null,
      "outputs": [
        {
          "output_type": "stream",
          "name": "stdout",
          "text": [
            "[10660, 8670, 7021, 5049, 6293, 6026, 1659, 2790, 3120, 3172, 2216, 9280, 8162, 1851, 2619, 327, 2033, 721, 440, 1740, 151, 224, 1608, 697, 22706, 63061, 602, 3700, 2987, 14396, 2572, 141, 145659, 10876, 9903, 92, 823, 2421, 1599, 1989, 973, 1276, 249, 184, 767, 505, 782, 1349, 394, 286, 119]\n"
          ]
        }
      ]
    },
    {
      "cell_type": "code",
      "metadata": {
        "scrolled": true,
        "id": "8HhdYXY2g6EB",
        "colab": {
          "base_uri": "https://localhost:8080/",
          "height": 1000
        },
        "outputId": "968c91e7-390a-4285-b7f5-b366954b9cff"
      },
      "source": [
        "backup_tweet = {\"Date\":tw_date,\"Tweet\": tweet,\"Likes\":tw_like}\n",
        "tweet_file = pandas.DataFrame(backup_tweet)\n",
        "\n",
        "tweet_file.to_csv(\"/content/drive/MyDrive/Colab Notebooks/paper/tweet.csv\")\n",
        "tweet_file"
      ],
      "execution_count": null,
      "outputs": [
        {
          "output_type": "execute_result",
          "data": {
            "text/html": [
              "<div>\n",
              "<style scoped>\n",
              "    .dataframe tbody tr th:only-of-type {\n",
              "        vertical-align: middle;\n",
              "    }\n",
              "\n",
              "    .dataframe tbody tr th {\n",
              "        vertical-align: top;\n",
              "    }\n",
              "\n",
              "    .dataframe thead th {\n",
              "        text-align: right;\n",
              "    }\n",
              "</style>\n",
              "<table border=\"1\" class=\"dataframe\">\n",
              "  <thead>\n",
              "    <tr style=\"text-align: right;\">\n",
              "      <th></th>\n",
              "      <th>Date</th>\n",
              "      <th>Tweet</th>\n",
              "      <th>Likes</th>\n",
              "    </tr>\n",
              "  </thead>\n",
              "  <tbody>\n",
              "    <tr>\n",
              "      <th>0</th>\n",
              "      <td>09/26/2021</td>\n",
              "      <td>🏁 LAP 53/53 END OF RACE 🏁 \\n\\nTOP 10 \\nHamilto...</td>\n",
              "      <td>10660</td>\n",
              "    </tr>\n",
              "    <tr>\n",
              "      <th>1</th>\n",
              "      <td>09/26/2021</td>\n",
              "      <td>LAP 51/53\\n\\nNorris has stayed out on slicks b...</td>\n",
              "      <td>8670</td>\n",
              "    </tr>\n",
              "    <tr>\n",
              "      <th>2</th>\n",
              "      <td>09/26/2021</td>\n",
              "      <td>A momentous day for Lewis Hamilton \\nA remarka...</td>\n",
              "      <td>7021</td>\n",
              "    </tr>\n",
              "    <tr>\n",
              "      <th>3</th>\n",
              "      <td>09/26/2021</td>\n",
              "      <td>Norris was asked for his thoughts on intermedi...</td>\n",
              "      <td>5049</td>\n",
              "    </tr>\n",
              "    <tr>\n",
              "      <th>4</th>\n",
              "      <td>09/26/2021</td>\n",
              "      <td>Lewis Hamilton is the first driver in F1 histo...</td>\n",
              "      <td>6293</td>\n",
              "    </tr>\n",
              "    <tr>\n",
              "      <th>5</th>\n",
              "      <td>09/26/2021</td>\n",
              "      <td>If Hamilton has an issue, Mercedes have sacrif...</td>\n",
              "      <td>6026</td>\n",
              "    </tr>\n",
              "    <tr>\n",
              "      <th>6</th>\n",
              "      <td>09/26/2021</td>\n",
              "      <td>Congrats to Lewis Hamilton on becoming the fir...</td>\n",
              "      <td>1659</td>\n",
              "    </tr>\n",
              "    <tr>\n",
              "      <th>7</th>\n",
              "      <td>09/26/2021</td>\n",
              "      <td>LEWIS HAMILTON WINS THE RUSSIAN GRAND PRIX 🏎\\n...</td>\n",
              "      <td>2790</td>\n",
              "    </tr>\n",
              "    <tr>\n",
              "      <th>8</th>\n",
              "      <td>09/26/2021</td>\n",
              "      <td>Norris was sensational today, but hindsight me...</td>\n",
              "      <td>3120</td>\n",
              "    </tr>\n",
              "    <tr>\n",
              "      <th>9</th>\n",
              "      <td>09/26/2021</td>\n",
              "      <td>Lewis Hamilton has won the Russian Grand Prix ...</td>\n",
              "      <td>3172</td>\n",
              "    </tr>\n",
              "    <tr>\n",
              "      <th>10</th>\n",
              "      <td>09/26/2021</td>\n",
              "      <td>After all of that we ended up with a Hamilton ...</td>\n",
              "      <td>2216</td>\n",
              "    </tr>\n",
              "    <tr>\n",
              "      <th>11</th>\n",
              "      <td>09/25/2021</td>\n",
              "      <td>Lewis Hamilton hits the pit lane wall! 😯\\n\\nHi...</td>\n",
              "      <td>9280</td>\n",
              "    </tr>\n",
              "    <tr>\n",
              "      <th>12</th>\n",
              "      <td>09/25/2021</td>\n",
              "      <td>Norris and Sainz on the front row \\n\\nRussell ...</td>\n",
              "      <td>8162</td>\n",
              "    </tr>\n",
              "    <tr>\n",
              "      <th>13</th>\n",
              "      <td>09/25/2021</td>\n",
              "      <td>Lewis Hamilton is out on track in Q2\\n\\nAnd he...</td>\n",
              "      <td>1851</td>\n",
              "    </tr>\n",
              "    <tr>\n",
              "      <th>14</th>\n",
              "      <td>09/25/2021</td>\n",
              "      <td>NORRIS ON POLE!! 💥 \\n\\nLando Norris is on pole...</td>\n",
              "      <td>2619</td>\n",
              "    </tr>\n",
              "    <tr>\n",
              "      <th>15</th>\n",
              "      <td>09/25/2021</td>\n",
              "      <td>Answer:\\nLPC 56 (all in ON,BC,QC + Win. North)...</td>\n",
              "      <td>327</td>\n",
              "    </tr>\n",
              "    <tr>\n",
              "      <th>16</th>\n",
              "      <td>09/25/2021</td>\n",
              "      <td>Hamilton hits the wall twice in one session as...</td>\n",
              "      <td>2033</td>\n",
              "    </tr>\n",
              "    <tr>\n",
              "      <th>17</th>\n",
              "      <td>09/25/2021</td>\n",
              "      <td>Lewis Hamilton en qualifications : \\n\\n#Russia...</td>\n",
              "      <td>721</td>\n",
              "    </tr>\n",
              "    <tr>\n",
              "      <th>18</th>\n",
              "      <td>09/25/2021</td>\n",
              "      <td>The Razorbacks finished the half with 307 yard...</td>\n",
              "      <td>440</td>\n",
              "    </tr>\n",
              "    <tr>\n",
              "      <th>19</th>\n",
              "      <td>09/25/2021</td>\n",
              "      <td>Two Wisconsin players took an apparent cheap s...</td>\n",
              "      <td>1740</td>\n",
              "    </tr>\n",
              "    <tr>\n",
              "      <th>20</th>\n",
              "      <td>09/25/2021</td>\n",
              "      <td>A 25-year-old Black transgender woman, Briana ...</td>\n",
              "      <td>151</td>\n",
              "    </tr>\n",
              "    <tr>\n",
              "      <th>21</th>\n",
              "      <td>09/25/2021</td>\n",
              "      <td>BREAKING: Accused criminal and anti-mask \"acti...</td>\n",
              "      <td>224</td>\n",
              "    </tr>\n",
              "    <tr>\n",
              "      <th>22</th>\n",
              "      <td>09/25/2021</td>\n",
              "      <td>Amazing scenes. And with VER on the back row, ...</td>\n",
              "      <td>1608</td>\n",
              "    </tr>\n",
              "    <tr>\n",
              "      <th>23</th>\n",
              "      <td>09/24/2021</td>\n",
              "      <td>Well embedded moles in Tallahassee believe thi...</td>\n",
              "      <td>697</td>\n",
              "    </tr>\n",
              "    <tr>\n",
              "      <th>24</th>\n",
              "      <td>09/24/2021</td>\n",
              "      <td>Ouch*\\n\\nA bit of a jaw-dropper as Lewis Hamil...</td>\n",
              "      <td>22706</td>\n",
              "    </tr>\n",
              "    <tr>\n",
              "      <th>25</th>\n",
              "      <td>09/18/2021</td>\n",
              "      <td>Hamilton was down 24-7 with 1:09 left and WON ...</td>\n",
              "      <td>63061</td>\n",
              "    </tr>\n",
              "    <tr>\n",
              "      <th>26</th>\n",
              "      <td>09/24/2021</td>\n",
              "      <td>My Top 5 Recruiters in College Hoops:\\n\\n1. Jo...</td>\n",
              "      <td>602</td>\n",
              "    </tr>\n",
              "    <tr>\n",
              "      <th>27</th>\n",
              "      <td>09/24/2021</td>\n",
              "      <td>Fast Friday 🏁\\n\\nRead about the practice day: ...</td>\n",
              "      <td>3700</td>\n",
              "    </tr>\n",
              "    <tr>\n",
              "      <th>28</th>\n",
              "      <td>09/24/2021</td>\n",
              "      <td>There was a dramatic moment in the @MercedesAM...</td>\n",
              "      <td>2987</td>\n",
              "    </tr>\n",
              "    <tr>\n",
              "      <th>29</th>\n",
              "      <td>09/18/2021</td>\n",
              "      <td>Hamilton HS scored 18 points in just over 1 mi...</td>\n",
              "      <td>14396</td>\n",
              "    </tr>\n",
              "    <tr>\n",
              "      <th>30</th>\n",
              "      <td>09/24/2021</td>\n",
              "      <td>Charles Leclerc is the early pace-setter here ...</td>\n",
              "      <td>2572</td>\n",
              "    </tr>\n",
              "    <tr>\n",
              "      <th>31</th>\n",
              "      <td>09/24/2021</td>\n",
              "      <td>Ahead of his first album in five years, R&amp;amp;...</td>\n",
              "      <td>141</td>\n",
              "    </tr>\n",
              "    <tr>\n",
              "      <th>32</th>\n",
              "      <td>09/22/2021</td>\n",
              "      <td>Hamilton Squad 💕 https://t.co/SLyKqjXQ5c</td>\n",
              "      <td>145659</td>\n",
              "    </tr>\n",
              "    <tr>\n",
              "      <th>33</th>\n",
              "      <td>09/20/2021</td>\n",
              "      <td>During the 17-point comeback with one minute l...</td>\n",
              "      <td>10876</td>\n",
              "    </tr>\n",
              "    <tr>\n",
              "      <th>34</th>\n",
              "      <td>09/20/2021</td>\n",
              "      <td>Hamilton the musical is still gonna be here af...</td>\n",
              "      <td>9903</td>\n",
              "    </tr>\n",
              "    <tr>\n",
              "      <th>35</th>\n",
              "      <td>09/24/2021</td>\n",
              "      <td>Anthony Hamilton x Jennifer Hudson - Superstar...</td>\n",
              "      <td>92</td>\n",
              "    </tr>\n",
              "    <tr>\n",
              "      <th>36</th>\n",
              "      <td>09/24/2021</td>\n",
              "      <td>Lewis Hamilton 'has decided not to bail out an...</td>\n",
              "      <td>823</td>\n",
              "    </tr>\n",
              "    <tr>\n",
              "      <th>37</th>\n",
              "      <td>09/18/2021</td>\n",
              "      <td>Hamilton stuns No. 7 Bishop Gorman 25-24 with ...</td>\n",
              "      <td>2421</td>\n",
              "    </tr>\n",
              "    <tr>\n",
              "      <th>38</th>\n",
              "      <td>09/18/2021</td>\n",
              "      <td>This photo taken by freelance photographer Fio...</td>\n",
              "      <td>1599</td>\n",
              "    </tr>\n",
              "    <tr>\n",
              "      <th>39</th>\n",
              "      <td>09/18/2021</td>\n",
              "      <td>Tailgates aren’t just for football. Thanks for...</td>\n",
              "      <td>1989</td>\n",
              "    </tr>\n",
              "    <tr>\n",
              "      <th>40</th>\n",
              "      <td>09/18/2021</td>\n",
              "      <td>One the craziest finishes you'll ever see...\\n...</td>\n",
              "      <td>973</td>\n",
              "    </tr>\n",
              "    <tr>\n",
              "      <th>41</th>\n",
              "      <td>09/17/2021</td>\n",
              "      <td>🍁 Spencer Hamilton\\n🎥 Logan Henderson https://...</td>\n",
              "      <td>1276</td>\n",
              "    </tr>\n",
              "    <tr>\n",
              "      <th>42</th>\n",
              "      <td>09/17/2021</td>\n",
              "      <td>PPC leader Maxime Bernier was recently in Hami...</td>\n",
              "      <td>249</td>\n",
              "    </tr>\n",
              "    <tr>\n",
              "      <th>43</th>\n",
              "      <td>09/17/2021</td>\n",
              "      <td>This is a sobering eight minutes that's diffic...</td>\n",
              "      <td>184</td>\n",
              "    </tr>\n",
              "    <tr>\n",
              "      <th>44</th>\n",
              "      <td>09/17/2021</td>\n",
              "      <td>The #Packers are signing #Buccaneers practice ...</td>\n",
              "      <td>767</td>\n",
              "    </tr>\n",
              "    <tr>\n",
              "      <th>45</th>\n",
              "      <td>09/17/2021</td>\n",
              "      <td>🗣 \"Hamilton was not lucky. Engineering and sci...</td>\n",
              "      <td>505</td>\n",
              "    </tr>\n",
              "    <tr>\n",
              "      <th>46</th>\n",
              "      <td>09/17/2021</td>\n",
              "      <td>Lewis Hamilton was \"not lucky\" but saved by \"e...</td>\n",
              "      <td>782</td>\n",
              "    </tr>\n",
              "    <tr>\n",
              "      <th>47</th>\n",
              "      <td>09/18/2021</td>\n",
              "      <td>Hamilton shocks the world! Beats Bishop Gorman...</td>\n",
              "      <td>1349</td>\n",
              "    </tr>\n",
              "    <tr>\n",
              "      <th>48</th>\n",
              "      <td>09/18/2021</td>\n",
              "      <td>Marcus                    Hamilton \\nSmart    ...</td>\n",
              "      <td>394</td>\n",
              "    </tr>\n",
              "    <tr>\n",
              "      <th>49</th>\n",
              "      <td>09/17/2021</td>\n",
              "      <td>Columbus Blue Jackets player Zac Rinaldo gave ...</td>\n",
              "      <td>286</td>\n",
              "    </tr>\n",
              "    <tr>\n",
              "      <th>50</th>\n",
              "      <td>09/17/2021</td>\n",
              "      <td>Happy Constitution Day! #OTD in 1787, delegate...</td>\n",
              "      <td>119</td>\n",
              "    </tr>\n",
              "  </tbody>\n",
              "</table>\n",
              "</div>"
            ],
            "text/plain": [
              "          Date                                              Tweet   Likes\n",
              "0   09/26/2021  🏁 LAP 53/53 END OF RACE 🏁 \\n\\nTOP 10 \\nHamilto...   10660\n",
              "1   09/26/2021  LAP 51/53\\n\\nNorris has stayed out on slicks b...    8670\n",
              "2   09/26/2021  A momentous day for Lewis Hamilton \\nA remarka...    7021\n",
              "3   09/26/2021  Norris was asked for his thoughts on intermedi...    5049\n",
              "4   09/26/2021  Lewis Hamilton is the first driver in F1 histo...    6293\n",
              "5   09/26/2021  If Hamilton has an issue, Mercedes have sacrif...    6026\n",
              "6   09/26/2021  Congrats to Lewis Hamilton on becoming the fir...    1659\n",
              "7   09/26/2021  LEWIS HAMILTON WINS THE RUSSIAN GRAND PRIX 🏎\\n...    2790\n",
              "8   09/26/2021  Norris was sensational today, but hindsight me...    3120\n",
              "9   09/26/2021  Lewis Hamilton has won the Russian Grand Prix ...    3172\n",
              "10  09/26/2021  After all of that we ended up with a Hamilton ...    2216\n",
              "11  09/25/2021  Lewis Hamilton hits the pit lane wall! 😯\\n\\nHi...    9280\n",
              "12  09/25/2021  Norris and Sainz on the front row \\n\\nRussell ...    8162\n",
              "13  09/25/2021  Lewis Hamilton is out on track in Q2\\n\\nAnd he...    1851\n",
              "14  09/25/2021  NORRIS ON POLE!! 💥 \\n\\nLando Norris is on pole...    2619\n",
              "15  09/25/2021  Answer:\\nLPC 56 (all in ON,BC,QC + Win. North)...     327\n",
              "16  09/25/2021  Hamilton hits the wall twice in one session as...    2033\n",
              "17  09/25/2021  Lewis Hamilton en qualifications : \\n\\n#Russia...     721\n",
              "18  09/25/2021  The Razorbacks finished the half with 307 yard...     440\n",
              "19  09/25/2021  Two Wisconsin players took an apparent cheap s...    1740\n",
              "20  09/25/2021  A 25-year-old Black transgender woman, Briana ...     151\n",
              "21  09/25/2021  BREAKING: Accused criminal and anti-mask \"acti...     224\n",
              "22  09/25/2021  Amazing scenes. And with VER on the back row, ...    1608\n",
              "23  09/24/2021  Well embedded moles in Tallahassee believe thi...     697\n",
              "24  09/24/2021  Ouch*\\n\\nA bit of a jaw-dropper as Lewis Hamil...   22706\n",
              "25  09/18/2021  Hamilton was down 24-7 with 1:09 left and WON ...   63061\n",
              "26  09/24/2021  My Top 5 Recruiters in College Hoops:\\n\\n1. Jo...     602\n",
              "27  09/24/2021  Fast Friday 🏁\\n\\nRead about the practice day: ...    3700\n",
              "28  09/24/2021  There was a dramatic moment in the @MercedesAM...    2987\n",
              "29  09/18/2021  Hamilton HS scored 18 points in just over 1 mi...   14396\n",
              "30  09/24/2021  Charles Leclerc is the early pace-setter here ...    2572\n",
              "31  09/24/2021  Ahead of his first album in five years, R&amp;...     141\n",
              "32  09/22/2021           Hamilton Squad 💕 https://t.co/SLyKqjXQ5c  145659\n",
              "33  09/20/2021  During the 17-point comeback with one minute l...   10876\n",
              "34  09/20/2021  Hamilton the musical is still gonna be here af...    9903\n",
              "35  09/24/2021  Anthony Hamilton x Jennifer Hudson - Superstar...      92\n",
              "36  09/24/2021  Lewis Hamilton 'has decided not to bail out an...     823\n",
              "37  09/18/2021  Hamilton stuns No. 7 Bishop Gorman 25-24 with ...    2421\n",
              "38  09/18/2021  This photo taken by freelance photographer Fio...    1599\n",
              "39  09/18/2021  Tailgates aren’t just for football. Thanks for...    1989\n",
              "40  09/18/2021  One the craziest finishes you'll ever see...\\n...     973\n",
              "41  09/17/2021  🍁 Spencer Hamilton\\n🎥 Logan Henderson https://...    1276\n",
              "42  09/17/2021  PPC leader Maxime Bernier was recently in Hami...     249\n",
              "43  09/17/2021  This is a sobering eight minutes that's diffic...     184\n",
              "44  09/17/2021  The #Packers are signing #Buccaneers practice ...     767\n",
              "45  09/17/2021  🗣 \"Hamilton was not lucky. Engineering and sci...     505\n",
              "46  09/17/2021  Lewis Hamilton was \"not lucky\" but saved by \"e...     782\n",
              "47  09/18/2021  Hamilton shocks the world! Beats Bishop Gorman...    1349\n",
              "48  09/18/2021  Marcus                    Hamilton \\nSmart    ...     394\n",
              "49  09/17/2021  Columbus Blue Jackets player Zac Rinaldo gave ...     286\n",
              "50  09/17/2021  Happy Constitution Day! #OTD in 1787, delegate...     119"
            ]
          },
          "metadata": {},
          "execution_count": 78
        }
      ]
    },
    {
      "cell_type": "code",
      "metadata": {
        "tags": [],
        "id": "9AeRnT-Fg6EC",
        "colab": {
          "base_uri": "https://localhost:8080/"
        },
        "outputId": "27945508-5cd9-4596-c18b-24ba442d6b73"
      },
      "source": [
        "raw_tweet = pandas.read_csv(r\"/content/drive/MyDrive/Colab Notebooks/paper/tweet.csv\")\n",
        "for i in raw_tweet[\"Tweet\"]:\n",
        "    print(i)"
      ],
      "execution_count": null,
      "outputs": [
        {
          "output_type": "stream",
          "name": "stdout",
          "text": [
            "🏁 LAP 53/53 END OF RACE 🏁 \n",
            "\n",
            "TOP 10 \n",
            "Hamilton 🏆x💯\n",
            "Verstappen\n",
            "Sainz\n",
            "Ricciardo\n",
            "Bottas\n",
            "Alonso\n",
            "Norris \n",
            "Raikkonen\n",
            "Perez\n",
            "R… https://t.co/8J6E0eEuez\n",
            "Lewis Hamilton hits the pit lane wall! 😯\n",
            "\n",
            "His front wing is damaged - and he faces a race against time to put in an… https://t.co/5x28cQML5M\n",
            "LAP 51/53\n",
            "\n",
            "Norris has stayed out on slicks but he's struggling for grip and losing time and then spins off\n",
            "\n",
            "Hamilto… https://t.co/vm9Qqm2qnt\n",
            "Lewis Hamilton is the first driver in F1 history to win 100 races! 👏 https://t.co/jer87pVwJB\n",
            "Norris was asked for his thoughts on intermediates and said \"NO!\". Hamilton was told to pit, ignored them, team tol… https://t.co/ysRH6pksVP\n",
            "LEWIS HAMILTON WINS THE RUSSIAN GRAND PRIX 🏎\n",
            "\n",
            "HISTORY is made! He becomes the first #F1 driver ever to reach 100 wi… https://t.co/GZ2p3FX5co\n",
            "Norris was sensational today, but hindsight means it was the wrong call not to just mirror Hamilton after holding h… https://t.co/QiXhvYJMOr\n",
            "Lewis Hamilton has won the Russian Grand Prix for his 100th win in F1.\n",
            "NORRIS ON POLE!! 💥 \n",
            "\n",
            "Lando Norris is on pole for the first time in his career! 👏\n",
            "\n",
            "Hamilton spun and nudged the wall… https://t.co/0kCDpDV4CU\n",
            "Lewis Hamilton becomes the first driver to win 100 Formula One races.\n",
            "\n",
            "The 100th victory came at the Russian Grand… https://t.co/79tYbSv5Xi\n"
          ]
        }
      ]
    },
    {
      "cell_type": "code",
      "metadata": {
        "id": "-968jHtGg6ED"
      },
      "source": [
        "from textblob import TextBlob\n",
        "\n",
        "def getsubjectivity(text):\n",
        "    return TextBlob(text).sentiment.subjectivity\n",
        "def getpolarity(text):\n",
        "    return TextBlob(text).sentiment.polarity"
      ],
      "execution_count": null,
      "outputs": []
    },
    {
      "cell_type": "code",
      "metadata": {
        "id": "XpPnxkRGg6EE"
      },
      "source": [
        "def remove_emoji(string):\n",
        "    emoji_pattern = re.compile(\"[\"\n",
        "                               u\"\\U0001F600-\\U0001F64F\"  # emoticons\n",
        "                               u\"\\U0001F300-\\U0001F5FF\"  # symbols & pictographs\n",
        "                               u\"\\U0001F680-\\U0001F6FF\"  # transport & map symbols\n",
        "                               u\"\\U0001F1E0-\\U0001F1FF\"  # flags (iOS)\n",
        "                               u\"\\U00002500-\\U00002BEF\"  # chinese char\n",
        "                               u\"\\U00002702-\\U000027B0\"\n",
        "                               u\"\\U00002702-\\U000027B0\"\n",
        "                               u\"\\U000024C2-\\U0001F251\"\n",
        "                               u\"\\U0001f926-\\U0001f937\"\n",
        "                               u\"\\U00010000-\\U0010ffff\"\n",
        "                               u\"\\u2640-\\u2642\"\n",
        "                               u\"\\u2600-\\u2B55\"\n",
        "                               u\"\\u200d\"\n",
        "                               u\"\\u23cf\"\n",
        "                               u\"\\u23e9\"\n",
        "                               u\"\\u231a\"\n",
        "                               u\"\\ufe0f\"\n",
        "                               u\"\\u3030\"\n",
        "                               \"]+\", flags=re.UNICODE)\n",
        "    return emoji_pattern.sub(r'', string)"
      ],
      "execution_count": null,
      "outputs": []
    },
    {
      "cell_type": "code",
      "metadata": {
        "tags": [],
        "id": "Y_U_PNxMg6EF",
        "colab": {
          "base_uri": "https://localhost:8080/"
        },
        "outputId": "adfe3ea0-39e5-44f8-c01d-2ffeccdb286c"
      },
      "source": [
        "import re\n",
        "polarity,subjectivity=[],[]\n",
        "#tweet_file.to_csv(\"/content/drive/MyDrive/Colab Notebooks/paper/clntweet.csv\")\n",
        "\n",
        "for i in raw_tweet[\"Tweet\"]:\n",
        "    i = i.lower()\n",
        "    i = re.sub('rt', '',i)\n",
        "    # i = re.sub('\\n', '',i)\n",
        "    # i = re.sub('[^a-z0-9]+', ' ', i)\n",
        "    i = ' '.join(l for l in i.split() if (l[0]!='@' and l[0:8:6]!='h/'))\n",
        "    i = remove_emoji(i)\n",
        "    polarity.append(getpolarity(i))\n",
        "    subjectivity.append(getsubjectivity(i))\n",
        "    print(i)"
      ],
      "execution_count": null,
      "outputs": [
        {
          "output_type": "stream",
          "name": "stdout",
          "text": [
            " lap 53/53 end of race  top 10 hamilton x verstappen sainz ricciardo bottas alonso norris raikkonen perez r…\n",
            "lewis hamilton hits the pit lane wall!  his front wing is damaged - and he faces a race against time to put in an…\n",
            "lap 51/53 norris has stayed out on slicks but he's struggling for grip and losing time and then spins off hamilto…\n",
            "lewis hamilton is the first driver in f1 history to win 100 races! \n",
            "norris was asked for his thoughts on intermediates and said \"no!\". hamilton was told to pit, ignored them, team tol…\n",
            "lewis hamilton wins the russian grand prix  history is made! he becomes the first #f1 driver ever to reach 100 wi…\n",
            "norris was sensational today, but hindsight means it was the wrong call not to just mirror hamilton after holding h…\n",
            "lewis hamilton has won the russian grand prix for his 100th win in f1.\n",
            "norris on pole!!  lando norris is on pole for the first time in his career!  hamilton spun and nudged the wall…\n",
            "lewis hamilton becomes the first driver to win 100 formula one races. the 100th victory came at the russian grand…\n"
          ]
        }
      ]
    },
    {
      "cell_type": "code",
      "metadata": {
        "id": "phpiLKmog6EG",
        "colab": {
          "base_uri": "https://localhost:8080/"
        },
        "outputId": "2978abd6-2a05-4c74-d32c-43f2e4fc4f03"
      },
      "source": [
        "from statistics import mean\n",
        "for i in range(len(polarity)):\n",
        "    print(f\"{polarity[i]:.3f}\\t: {subjectivity[i]:.3f}\")\n",
        "\n",
        "print(f\"\\nToday's Average\\n{mean(polarity)}\\t: {mean(subjectivity)}\")"
      ],
      "execution_count": null,
      "outputs": [
        {
          "output_type": "stream",
          "name": "stdout",
          "text": [
            "0.500\t: 0.500\n",
            "0.000\t: 0.000\n",
            "0.000\t: 0.000\n",
            "0.625\t: 0.367\n",
            "0.000\t: 0.000\n",
            "0.294\t: 0.383\n",
            "0.083\t: 0.783\n",
            "0.433\t: 0.467\n",
            "0.312\t: 0.333\n",
            "0.350\t: 0.244\n",
            "\n",
            "Today's Average\n",
            "0.25979166666666664\t: 0.30777777777777776\n"
          ]
        }
      ]
    },
    {
      "cell_type": "code",
      "metadata": {
        "id": "45U3Mud9g6EG"
      },
      "source": [],
      "execution_count": null,
      "outputs": []
    }
  ]
}